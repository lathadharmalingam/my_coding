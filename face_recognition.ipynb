{
  "nbformat": 4,
  "nbformat_minor": 0,
  "metadata": {
    "colab": {
      "name": "face_recognition.ipynb",
      "provenance": [],
      "collapsed_sections": [],
      "authorship_tag": "ABX9TyOeKGZbVQC0RJFI2kB7FfGi",
      "include_colab_link": true
    },
    "kernelspec": {
      "name": "python3",
      "display_name": "Python 3"
    },
    "language_info": {
      "name": "python"
    }
  },
  "cells": [
    {
      "cell_type": "markdown",
      "metadata": {
        "id": "view-in-github",
        "colab_type": "text"
      },
      "source": [
        "<a href=\"https://colab.research.google.com/github/lathadharmalingam/my_coding/blob/main/face_recognition.ipynb\" target=\"_parent\"><img src=\"https://colab.research.google.com/assets/colab-badge.svg\" alt=\"Open In Colab\"/></a>"
      ]
    },
    {
      "cell_type": "code",
      "source": [
        "pip install dlib"
      ],
      "metadata": {
        "colab": {
          "base_uri": "https://localhost:8080/"
        },
        "id": "i6_ckwCHliG7",
        "outputId": "9cf06d2e-6536-4955-8ca4-3ac1afc28188"
      },
      "execution_count": null,
      "outputs": [
        {
          "output_type": "stream",
          "name": "stdout",
          "text": [
            "Looking in indexes: https://pypi.org/simple, https://us-python.pkg.dev/colab-wheels/public/simple/\n",
            "Requirement already satisfied: dlib in /usr/local/lib/python3.7/dist-packages (19.18.0+zzzcolab20220513001918)\n"
          ]
        }
      ]
    },
    {
      "cell_type": "code",
      "source": [
        "pip install SHAPE PREDICTOR\n"
      ],
      "metadata": {
        "colab": {
          "base_uri": "https://localhost:8080/"
        },
        "id": "sWLFFl4qh98U",
        "outputId": "44682584-2c11-44d1-a7d0-5d17ddf4f04f"
      },
      "execution_count": null,
      "outputs": [
        {
          "output_type": "stream",
          "name": "stdout",
          "text": [
            "Looking in indexes: https://pypi.org/simple, https://us-python.pkg.dev/colab-wheels/public/simple/\n",
            "Requirement already satisfied: SHAPE in /usr/local/lib/python3.7/dist-packages (0.1.1)\n",
            "Requirement already satisfied: PREDICTOR in /usr/local/lib/python3.7/dist-packages (0.1.2)\n",
            "Requirement already satisfied: opencv-python-headless in /usr/local/lib/python3.7/dist-packages (from SHAPE) (4.5.5.64)\n",
            "Requirement already satisfied: numpy in /usr/local/lib/python3.7/dist-packages (from SHAPE) (1.21.6)\n",
            "Requirement already satisfied: matplotlib in /usr/local/lib/python3.7/dist-packages (from SHAPE) (3.2.2)\n",
            "Requirement already satisfied: flask>=0.12.2 in /usr/local/lib/python3.7/dist-packages (from PREDICTOR) (1.1.4)\n",
            "Requirement already satisfied: boto3>=1.4.0 in /usr/local/lib/python3.7/dist-packages (from PREDICTOR) (1.24.2)\n",
            "Requirement already satisfied: s3transfer<0.7.0,>=0.6.0 in /usr/local/lib/python3.7/dist-packages (from boto3>=1.4.0->PREDICTOR) (0.6.0)\n",
            "Requirement already satisfied: jmespath<2.0.0,>=0.7.1 in /usr/local/lib/python3.7/dist-packages (from boto3>=1.4.0->PREDICTOR) (1.0.0)\n",
            "Requirement already satisfied: botocore<1.28.0,>=1.27.2 in /usr/local/lib/python3.7/dist-packages (from boto3>=1.4.0->PREDICTOR) (1.27.2)\n",
            "Requirement already satisfied: python-dateutil<3.0.0,>=2.1 in /usr/local/lib/python3.7/dist-packages (from botocore<1.28.0,>=1.27.2->boto3>=1.4.0->PREDICTOR) (2.8.2)\n",
            "Requirement already satisfied: urllib3<1.27,>=1.25.4 in /usr/local/lib/python3.7/dist-packages (from botocore<1.28.0,>=1.27.2->boto3>=1.4.0->PREDICTOR) (1.26.9)\n",
            "Requirement already satisfied: Jinja2<3.0,>=2.10.1 in /usr/local/lib/python3.7/dist-packages (from flask>=0.12.2->PREDICTOR) (2.11.3)\n",
            "Requirement already satisfied: Werkzeug<2.0,>=0.15 in /usr/local/lib/python3.7/dist-packages (from flask>=0.12.2->PREDICTOR) (1.0.1)\n",
            "Requirement already satisfied: itsdangerous<2.0,>=0.24 in /usr/local/lib/python3.7/dist-packages (from flask>=0.12.2->PREDICTOR) (1.1.0)\n",
            "Requirement already satisfied: click<8.0,>=5.1 in /usr/local/lib/python3.7/dist-packages (from flask>=0.12.2->PREDICTOR) (7.1.2)\n",
            "Requirement already satisfied: MarkupSafe>=0.23 in /usr/local/lib/python3.7/dist-packages (from Jinja2<3.0,>=2.10.1->flask>=0.12.2->PREDICTOR) (2.0.1)\n",
            "Requirement already satisfied: six>=1.5 in /usr/local/lib/python3.7/dist-packages (from python-dateutil<3.0.0,>=2.1->botocore<1.28.0,>=1.27.2->boto3>=1.4.0->PREDICTOR) (1.15.0)\n",
            "Requirement already satisfied: cycler>=0.10 in /usr/local/lib/python3.7/dist-packages (from matplotlib->SHAPE) (0.11.0)\n",
            "Requirement already satisfied: pyparsing!=2.0.4,!=2.1.2,!=2.1.6,>=2.0.1 in /usr/local/lib/python3.7/dist-packages (from matplotlib->SHAPE) (3.0.9)\n",
            "Requirement already satisfied: kiwisolver>=1.0.1 in /usr/local/lib/python3.7/dist-packages (from matplotlib->SHAPE) (1.4.2)\n",
            "Requirement already satisfied: typing-extensions in /usr/local/lib/python3.7/dist-packages (from kiwisolver>=1.0.1->matplotlib->SHAPE) (4.2.0)\n"
          ]
        }
      ]
    },
    {
      "cell_type": "code",
      "source": [
        "pip install playsound\n"
      ],
      "metadata": {
        "colab": {
          "base_uri": "https://localhost:8080/"
        },
        "id": "tMGfm8K5aEkt",
        "outputId": "c23f60d4-3d79-4dda-f47c-2b27c470395e"
      },
      "execution_count": null,
      "outputs": [
        {
          "output_type": "stream",
          "name": "stdout",
          "text": [
            "Looking in indexes: https://pypi.org/simple, https://us-python.pkg.dev/colab-wheels/public/simple/\n",
            "Requirement already satisfied: playsound in /usr/local/lib/python3.7/dist-packages (1.3.0)\n"
          ]
        }
      ]
    },
    {
      "cell_type": "code",
      "source": [
        "from scipy.spatial import distance as dist\n",
        "from imutils import face_utils\n",
        "from threading import Thread\n",
        "import playsound\n",
        "import argparse\n",
        "import dlib\n",
        "import cv2\n",
        "\n",
        "def sound_alarm(path):\n",
        "\tplaysound.playsound(path)\n",
        "\n",
        "def eye_aspect_ratio(eye):\n",
        "\tA = dist.euclidean(eye[1], eye[5])\n",
        "\tB = dist.euclidean(eye[2], eye[4])\n",
        "\tC = dist.euclidean(eye[0], eye[3])\n",
        "\n",
        "\tear = (A + B) / (2.0 * C)\n",
        "\treturn ear\n",
        "\n",
        "ap = argparse.ArgumentParser()\n",
        "ap.add_argument(\"-p\", \"--shape-predictor\", required=True, help=\"path to facial landmark predictor\")\n",
        "ap.add_argument(\"-a\", \"--alarm\", type=str, default=\"\", help=\"https://drive.google.com/file/d/1V9boJbqZXA6zydr5ZYdolSiL1LXGYjsV/view?usp=sharing\")\n",
        "ap.add_argument(\"-s\", \"--sms\", type=str, default=\"\", help= \"+91 9150842667\")\n",
        "ap.add_argument(\"-m\", \"--mail\", type=str, default=\"\", help=\"lathadharmanlingam@gmail.com\")\n",
        "args = vars(ap.parse_args())\n",
        "\n",
        "EYE_AR_THRESH = 0.25\n",
        "EYE_AR_CONSEC_FRAMES = 28\n",
        "MSG_COUNT_THRESH = 1\n",
        "\n",
        "COUNTER = 0\n",
        "ALARM_ON = False\n",
        "MSG_COUNTER = 0\n",
        "\n",
        "face_cascade = cv2.CascadeClassifier('haarcascade_frontalface_default.xml')\n",
        "\n",
        "print(\"\\n[ INFO:0] Loading facial landmark predictor...\")\n",
        "detector = dlib.get_frontal_face_detector()\n",
        "predictor = dlib.shape_predictor(args[\"shape_predictor\"])\n",
        "\n",
        "(lStart, lEnd) = face_utils.FACIAL_LANDMARKS_IDXS[\"left_eye\"]\n",
        "(rStart, rEnd) = face_utils.FACIAL_LANDMARKS_IDXS[\"right_eye\"]\n",
        "\n",
        "print(\"[ INFO:1] Starting video streaming...\")\n",
        "cap = cv2.VideoCapture(0)\n",
        "\n",
        "while True:\n",
        "\tframe = cap.read()[1]\n",
        "\tgray = cv2.cvtColor(frame, cv2.COLOR_BGR2GRAY)\n",
        "\t\n",
        "\tfaces = face_cascade.detectMultiScale(gray, 1.3, 5)\n",
        "\n",
        "\tfor (x,y,w,h) in faces:\n",
        "\t\tcv2.rectangle(frame,(x,y),(x+w,y+h),(255,0,0),2)\n",
        "\t\tcv2.putText(frame,'FACE',(x+w//2-9,y+h+9), cv2.FONT_HERSHEY_SIMPLEX, 0.5, (11,255,255), 2, cv2.LINE_AA)\n",
        "\n",
        "\trects = detector(gray, 0)\n",
        "\tfor rect in rects:\n",
        "\t\tshape = predictor(gray, rect)\n",
        "\t\tshape = face_utils.shape_to_np(shape)\n",
        "\n",
        "\t\tleftEye = shape[lStart:lEnd]\n",
        "\t\trightEye = shape[rStart:rEnd]\n",
        "\t\tleftEAR = eye_aspect_ratio(leftEye)\n",
        "\t\trightEAR = eye_aspect_ratio(rightEye)\n",
        "\n",
        "\t\tear = (leftEAR + rightEAR) / 2.0\n",
        "\n",
        "\t\tleftEyeHull = cv2.convexHull(leftEye)\n",
        "\t\trightEyeHull = cv2.convexHull(rightEye)\n",
        "\t\tcv2.drawContours(frame, [leftEyeHull], -1, (0, 255, 0), 1)\n",
        "\t\tcv2.drawContours(frame, [rightEyeHull], -1, (0, 255, 0), 1)\n",
        "\n",
        "\t\tif ear < EYE_AR_THRESH:\n",
        "\t\t\tCOUNTER += 1\n",
        "\n",
        "\t\t\tif COUNTER >= EYE_AR_CONSEC_FRAMES:\n",
        "\t\t\t\tif not ALARM_ON:\n",
        "\t\t\t\t\tALARM_ON = True\n",
        "\t\t\t\t\tMSG_COUNTER += 1\n",
        "\n",
        "\t\t\t\t\tif args[\"alarm\"] != \"\":\n",
        "\t\t\t\t\t\tt = Thread(target=sound_alarm, args=(args[\"alarm\"],))\n",
        "\t\t\t\t\t\tt.deamon = True\n",
        "\t\t\t\t\t\tt.start()\n",
        "\n",
        "\t\t\t\tcv2.putText(frame, \"DROWSINESS ALERT!\", (10, 30), cv2.FONT_HERSHEY_SIMPLEX, 0.7, (0, 0, 255), 2)\n",
        "\n",
        "\t\telse:\n",
        "\t\t\tCOUNTER = 0\n",
        "\t\t\tALARM_ON = False\n",
        "\n",
        "\t\tcv2.putText(frame, \"E.A.R. - {:.2f}\".format(ear), (300, 30), cv2.FONT_HERSHEY_SIMPLEX, 0.7, (0, 0, 255), 2)\n",
        "\t\t\n",
        "\t\tif MSG_COUNTER > MSG_COUNT_THRESH:\n",
        "\t\t\timport location\n",
        "\t\t\tif args[\"sms\"] != \"\":\n",
        "\t\t\t\timport sms\n",
        "\t\t\t\tsms.send_sms(args[\"sms\"], location.website, location.co_ordinates)\n",
        "\t\t\telse:\n",
        "\t\t\t\tprint(\"\\nUnable to send SMS, plz provide a registered mobile number.\")\n",
        "\t\t\tif args[\"mail\"] !=\"\":\n",
        "\t\t\t\timport mail\n",
        "\t\t\t\tmail.send_mail(args[\"mail\"], location.website, location.co_ordinates, location.msg_distance)\n",
        "\t\t\telse:\n",
        "\t\t\t\tprint(\"\\nUnable to send Email, plz provide an email id.\")\n",
        "\t\t\tMSG_COUNTER = 0\n",
        " \n",
        "\tcv2.imshow(\"Frame\", frame)\n",
        "\t\n",
        "\tkey = cv2.waitKey(1) & 0xFF\n",
        "\tif key == ord(\"q\"):\n",
        "\t   break\n",
        "\n",
        "cap.release()\n",
        "cv2.destroyAllWindows()"
      ],
      "metadata": {
        "id": "-yQku2SCH3q9",
        "colab": {
          "base_uri": "https://localhost:8080/",
          "height": 202
        },
        "outputId": "93137eae-bc61-40c6-9224-58d438a23ad2"
      },
      "execution_count": null,
      "outputs": [
        {
          "output_type": "stream",
          "name": "stderr",
          "text": [
            "usage: ipykernel_launcher.py [-h] -p SHAPE_PREDICTOR [-a ALARM] [-s SMS]\n",
            "                             [-m MAIL]\n",
            "ipykernel_launcher.py: error: the following arguments are required: -p/--shape-predictor\n"
          ]
        },
        {
          "output_type": "error",
          "ename": "SystemExit",
          "evalue": "ignored",
          "traceback": [
            "An exception has occurred, use %tb to see the full traceback.\n",
            "\u001b[0;31mSystemExit\u001b[0m\u001b[0;31m:\u001b[0m 2\n"
          ]
        },
        {
          "output_type": "stream",
          "name": "stderr",
          "text": [
            "/usr/local/lib/python3.7/dist-packages/IPython/core/interactiveshell.py:2890: UserWarning: To exit: use 'exit', 'quit', or Ctrl-D.\n",
            "  warn(\"To exit: use 'exit', 'quit', or Ctrl-D.\", stacklevel=1)\n"
          ]
        }
      ]
    },
    {
      "cell_type": "code",
      "source": [
        "pip install geocoder\n"
      ],
      "metadata": {
        "colab": {
          "base_uri": "https://localhost:8080/"
        },
        "id": "hS3y6MFVkgv6",
        "outputId": "36256da0-9f40-4413-941d-f4160d73fc24"
      },
      "execution_count": null,
      "outputs": [
        {
          "output_type": "stream",
          "name": "stdout",
          "text": [
            "Looking in indexes: https://pypi.org/simple, https://us-python.pkg.dev/colab-wheels/public/simple/\n",
            "Collecting geocoder\n",
            "  Downloading geocoder-1.38.1-py2.py3-none-any.whl (98 kB)\n",
            "\u001b[K     |████████████████████████████████| 98 kB 4.3 MB/s \n",
            "\u001b[?25hRequirement already satisfied: requests in /usr/local/lib/python3.7/dist-packages (from geocoder) (2.23.0)\n",
            "Requirement already satisfied: future in /usr/local/lib/python3.7/dist-packages (from geocoder) (0.16.0)\n",
            "Requirement already satisfied: click in /usr/local/lib/python3.7/dist-packages (from geocoder) (7.1.2)\n",
            "Requirement already satisfied: six in /usr/local/lib/python3.7/dist-packages (from geocoder) (1.15.0)\n",
            "Collecting ratelim\n",
            "  Downloading ratelim-0.1.6-py2.py3-none-any.whl (4.0 kB)\n",
            "Requirement already satisfied: decorator in /usr/local/lib/python3.7/dist-packages (from ratelim->geocoder) (4.4.2)\n",
            "Requirement already satisfied: idna<3,>=2.5 in /usr/local/lib/python3.7/dist-packages (from requests->geocoder) (2.10)\n",
            "Collecting urllib3!=1.25.0,!=1.25.1,<1.26,>=1.21.1\n",
            "  Downloading urllib3-1.25.11-py2.py3-none-any.whl (127 kB)\n",
            "\u001b[K     |████████████████████████████████| 127 kB 44.4 MB/s \n",
            "\u001b[?25hRequirement already satisfied: certifi>=2017.4.17 in /usr/local/lib/python3.7/dist-packages (from requests->geocoder) (2022.5.18.1)\n",
            "Requirement already satisfied: chardet<4,>=3.0.2 in /usr/local/lib/python3.7/dist-packages (from requests->geocoder) (3.0.4)\n",
            "Installing collected packages: urllib3, ratelim, geocoder\n",
            "  Attempting uninstall: urllib3\n",
            "    Found existing installation: urllib3 1.26.9\n",
            "    Uninstalling urllib3-1.26.9:\n",
            "      Successfully uninstalled urllib3-1.26.9\n",
            "\u001b[31mERROR: pip's dependency resolver does not currently take into account all the packages that are installed. This behaviour is the source of the following dependency conflicts.\n",
            "datascience 0.10.6 requires folium==0.2.1, but you have folium 0.8.3 which is incompatible.\u001b[0m\n",
            "Successfully installed geocoder-1.38.1 ratelim-0.1.6 urllib3-1.25.11\n"
          ]
        }
      ]
    },
    {
      "cell_type": "code",
      "source": [
        "from math import radians, cos, sin, asin, sqrt\n",
        "import geocoder\n",
        "import json\n",
        "import requests\n",
        "\n",
        "\"\"\"Driver details\"\"\"\n",
        "user_latitude = 13.008826088580236, \n",
        "user_longitude = user_latitude =  80.00333002185538\n",
        "\n",
        "city = \"chennai\"\n",
        "print(\"\\nUser/Driver details:\")\n",
        "print (\"latitude = \" + str(user_latitude) + \"\\nlongitude = \" + str(user_longitude) + \"\\ncity = \" + city)\n",
        "\n",
        "\"\"\"Emergency contact person details\"\"\"\n",
        "#visit https://stackoverflow.com/questions/24906833/get-your-location-through-python/49778452#49778452 to known about, how to get your own access_key\n",
        "freegeoip = \"http://api.ipstack.com/check?access_key=c3534305991e0cffdb31c22d51370b20\"\n",
        "geo_r = requests.get(freegeoip)\n",
        "geo_j = json.loads(geo_r.text)\n",
        "ip = geo_j['ip']\n",
        "location = geo_j['city']\n",
        "lat_ecp = geo_j['latitude']\n",
        "lon_ecp = geo_j['longitude']\n",
        "print(\"\\nEmergency contact person details:\")\n",
        "print(\"Your location = \" + location)\n",
        "\n",
        "\n",
        "\"\"\"Calculate the distance between two points\"\"\"\n",
        "try:\n",
        "\tlon_ecp, lat_ecp, user_longitude, user_latitude = map(radians, [lon_ecp, lat_ecp, user_longitude, user_latitude])\n",
        "\n",
        "\t# haversine formula \n",
        "\tdlon = user_longitude - lon_ecp \n",
        "\tdlat = user_latitude - lat_ecp \n",
        "\ta = sin(dlat/2)**2 + cos(lat_ecp) * cos(user_latitude) * sin(dlon/2)**2\n",
        "\tc = 2 * asin(sqrt(a)) \n",
        "\tkm = 6367 * c\n",
        "\n",
        "\tkm = ('%.0f'%km)\n",
        "\n",
        "\tmsg_distance = 'Driver is about '+str(km)+' km away from you';\n",
        "\tprint(msg_distance)\n",
        "except:\n",
        "\tprint('\\nUnable to calculate distance.')\n",
        "\tmsg_distance = 'Unable to calculate distance.'\n",
        "\n",
        "website = 'https://www.google.com/maps/'\n",
        "co_ordinates = \"?q=\"+str(user_latitude)+\",\"+str(user_longitude)"
      ],
      "metadata": {
        "colab": {
          "base_uri": "https://localhost:8080/"
        },
        "id": "D7SNU9tkh1rp",
        "outputId": "6c872b47-3917-4b1e-dc52-6429c9a3ed6c"
      },
      "execution_count": null,
      "outputs": [
        {
          "output_type": "stream",
          "name": "stdout",
          "text": [
            "\n",
            "User/Driver details:\n",
            "latitude = 80.00333002185538\n",
            "longitude = 80.00333002185538\n",
            "city = chennai\n",
            "\n",
            "Emergency contact person details:\n",
            "Your location = Spring Valley\n",
            "Driver is about 7061 km away from you\n"
          ]
        }
      ]
    },
    {
      "cell_type": "code",
      "source": [
        ""
      ],
      "metadata": {
        "id": "c8FhJW-35CZk"
      },
      "execution_count": null,
      "outputs": []
    },
    {
      "cell_type": "code",
      "source": [
        "import smtplib\n",
        "from email.mime.multipart import MIMEMultipart\n",
        "from email.mime.text import MIMEText\n",
        "\n",
        "#login with your credentials\n",
        "user_name = \"\"\n",
        "user_pwd = \"\"\n",
        "\n",
        "def send_mail(to, website, co_ordinates, msg_distance):\n",
        "\t# Create message container - the correct MIME type is multipart/alternative.\n",
        "\tmsg = MIMEMultipart('alternative')\n",
        "\tmsg['Subject'] = \"About your driver\"\n",
        "\tmsg['From'] = \"DDS App <\" + user_name + \">\"\n",
        "\tmsg['To'] = to\n",
        "\t#print(msg['To'])\n",
        "\n",
        "\t# Create the body of the message (a plain-text and an HTML version).\n",
        "\tTEXT = \"Hello,\\n\\nJust wanted to inform you that your driver detected drowsy.\\n\\nYour drive current location: \"\n",
        "\tDisclaimer = \"\\n\\nDisclaimer- This is an auto generated email, please do not reply to this email.\"\n",
        "\tBODY = TEXT + website + co_ordinates + \"\\n\\n\" + msg_distance + Disclaimer\n",
        "\n",
        "\thtml = \"\"\"\\\n",
        "\t<html>\n",
        "\t  <head></head>\n",
        "\t  <body>\n",
        "\t\t<p><b>Hi!</b></p>\n",
        "\t\t<p>Just wanted to inform you that your driver detected drowsy.</p>\n",
        "\t\t<p>Your drive current location: <a href=\"https://www.google.com/maps/\"\"\"+ co_ordinates +\"\"\"\">Google Map</a>.</p>\n",
        "\t\t<p>\"\"\"+ msg_distance +\"\"\"</p>\n",
        "\t\t<p><b>Disclaimer</b>- This is an auto generated email, please do not reply to this email.</p>\n",
        "\t  </body>\n",
        "\t</html>\n",
        "\t\"\"\"\n",
        "\tprint ('\\nEmail details:\\nto = ' + to + '\\nfrom = ' + user_name + '\\nbody:\\n' + BODY)\n",
        "\n",
        "\tpart1 = MIMEText(BODY, 'plain')\n",
        "\tpart2 = MIMEText(html, 'html')\n",
        "\n",
        "\tmsg.attach(part1)\n",
        "\tmsg.attach(part2)\n",
        "\n",
        "\tmail = smtplib.SMTP('smtp.gmail.com',587)\n",
        "\t#mail = smtplib.SMTP(\"smtp.mail.yahoo.com\",587)\n",
        "\tmail.ehlo()\n",
        "\tmail.starttls()\n",
        "\n",
        "\ttry:\n",
        "\t\tmail.login(user_name, user_pwd)\n",
        "\t\tmail.sendmail(msg['From'], msg['To'], msg.as_string())\n",
        "\t\tprint(\"\\nemail sent successfully\")\n",
        "\texcept smtplib.SMTPAuthenticationError:\n",
        "\t\tprint (\"\\nInvalid user_name or password.\")\n",
        "\tmail.close()"
      ],
      "metadata": {
        "id": "UWC_8rWmiUIf"
      },
      "execution_count": null,
      "outputs": []
    },
    {
      "cell_type": "code",
      "source": [
        "pip install twilio\n"
      ],
      "metadata": {
        "colab": {
          "base_uri": "https://localhost:8080/"
        },
        "id": "gvTYmgCFkOyM",
        "outputId": "197450a8-2472-4d62-f851-15535424ac14"
      },
      "execution_count": null,
      "outputs": [
        {
          "output_type": "stream",
          "name": "stdout",
          "text": [
            "Looking in indexes: https://pypi.org/simple, https://us-python.pkg.dev/colab-wheels/public/simple/\n",
            "Collecting twilio\n",
            "  Downloading twilio-7.9.2-py2.py3-none-any.whl (1.4 MB)\n",
            "\u001b[K     |████████████████████████████████| 1.4 MB 7.4 MB/s \n",
            "\u001b[?25hCollecting PyJWT<3.0.0,>=2.0.0\n",
            "  Downloading PyJWT-2.4.0-py3-none-any.whl (18 kB)\n",
            "Requirement already satisfied: pytz in /usr/local/lib/python3.7/dist-packages (from twilio) (2022.1)\n",
            "Requirement already satisfied: requests>=2.0.0 in /usr/local/lib/python3.7/dist-packages (from twilio) (2.23.0)\n",
            "Requirement already satisfied: idna<3,>=2.5 in /usr/local/lib/python3.7/dist-packages (from requests>=2.0.0->twilio) (2.10)\n",
            "Requirement already satisfied: chardet<4,>=3.0.2 in /usr/local/lib/python3.7/dist-packages (from requests>=2.0.0->twilio) (3.0.4)\n",
            "Requirement already satisfied: certifi>=2017.4.17 in /usr/local/lib/python3.7/dist-packages (from requests>=2.0.0->twilio) (2022.5.18.1)\n",
            "Requirement already satisfied: urllib3!=1.25.0,!=1.25.1,<1.26,>=1.21.1 in /usr/local/lib/python3.7/dist-packages (from requests>=2.0.0->twilio) (1.25.11)\n",
            "Installing collected packages: PyJWT, twilio\n",
            "Successfully installed PyJWT-2.4.0 twilio-7.9.2\n"
          ]
        }
      ]
    },
    {
      "cell_type": "code",
      "source": [
        "# Download the twilio-python library from twilio.com/docs/libraries/python\n",
        "from twilio.rest import Client\n",
        "\n",
        "# Find these values at https://twilio.com/user/account\n",
        "account_sid = \"AC********************************\"\n",
        "auth_token = \"\"\n",
        "\n",
        "def send_sms(reciever, website, co_ordinates):\n",
        "\tclient = Client(account_sid, auth_token)\n",
        "\n",
        "\tTo = reciever\n",
        "\tText = \"\\nYour driver detect drowsy.\\nYour drive current location: \" + website + co_ordinates\n",
        "\tprint ('\\nSMS details:\\nto = ' + To + '\\nfrom = +91 9150842667\\nbody: ' + Text)\n",
        "\n",
        "\tclient.api.account.messages.create(\n",
        "\t\tto = To,\n",
        "\t\tfrom_ = \"+91 9150842667\",\n",
        "\t\tbody = Text)\n",
        "\n",
        "\tprint ('\\nSMS sent successfully.')"
      ],
      "metadata": {
        "id": "pePIe6AZizl-"
      },
      "execution_count": null,
      "outputs": []
    }
  ]
}